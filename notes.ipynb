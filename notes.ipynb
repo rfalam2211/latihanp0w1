{
 "cells": [
  {
   "cell_type": "markdown",
   "id": "b7fa550e",
   "metadata": {},
   "source": [
    "# My Notebook\n",
    "\n",
    "## Introduction\n",
    "- Name: Riko Fadilah Alam "
   ]
  },
  {
   "cell_type": "code",
   "execution_count": 5,
   "id": "01272f3d",
   "metadata": {},
   "outputs": [
    {
     "name": "stdout",
     "output_type": "stream",
     "text": [
      "This Code will be executed\n"
     ]
    }
   ],
   "source": [
    "print ('This Code will be executed')"
   ]
  }
 ],
 "metadata": {
  "kernelspec": {
   "display_name": "base",
   "language": "python",
   "name": "python3"
  },
  "language_info": {
   "codemirror_mode": {
    "name": "ipython",
    "version": 3
   },
   "file_extension": ".py",
   "mimetype": "text/x-python",
   "name": "python",
   "nbconvert_exporter": "python",
   "pygments_lexer": "ipython3",
   "version": "3.12.9"
  }
 },
 "nbformat": 4,
 "nbformat_minor": 5
}
